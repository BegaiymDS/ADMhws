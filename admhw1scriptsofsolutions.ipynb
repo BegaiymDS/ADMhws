{
  "nbformat": 4,
  "nbformat_minor": 0,
  "metadata": {
    "colab": {
      "provenance": []
    },
    "kernelspec": {
      "name": "python3",
      "display_name": "Python 3"
    },
    "language_info": {
      "name": "python"
    }
  },
  "cells": [
    {
      "cell_type": "markdown",
      "source": [
        "Say \"Hello, World!\" With Python\n"
      ],
      "metadata": {
        "id": "pktP__hEznZ8"
      }
    },
    {
      "cell_type": "code",
      "source": [
        "print(\"Hello, World!\")"
      ],
      "metadata": {
        "id": "Mbb1qITPztWg"
      },
      "execution_count": null,
      "outputs": []
    },
    {
      "cell_type": "markdown",
      "source": [
        "Python If-Else"
      ],
      "metadata": {
        "id": "EO0ieCM-PmGC"
      }
    },
    {
      "cell_type": "code",
      "source": [
        "#!/bin/python3\n",
        "\n",
        "import math\n",
        "import os\n",
        "import random\n",
        "import re\n",
        "import sys\n",
        "\n",
        "\n",
        "\n",
        "n = int(input())\n",
        "if n % 2:\n",
        "    print(\"Weird\")\n",
        "elif 2 <= n <= 5:\n",
        "    print(\"Not Weird\")\n",
        "elif 6 <= n <= 20:\n",
        "    print(\"Weird\")\n",
        "else:\n",
        "    print(\"Not Weird\")"
      ],
      "metadata": {
        "id": "bFA-9WxLP0Tq"
      },
      "execution_count": null,
      "outputs": []
    },
    {
      "cell_type": "markdown",
      "source": [
        "Arithmetic Operators"
      ],
      "metadata": {
        "id": "GVuYQDEKPvRj"
      }
    },
    {
      "cell_type": "code",
      "source": [
        "if __name__ == '__main__':\n",
        "    a = int(input())\n",
        "    b = int(input())\n",
        "\n",
        "print(a + b)\n",
        "print(a - b)\n",
        "print(a * b)\n"
      ],
      "metadata": {
        "id": "EAZR-F4uPx-d"
      },
      "execution_count": null,
      "outputs": []
    },
    {
      "cell_type": "markdown",
      "source": [
        "Python: Division"
      ],
      "metadata": {
        "id": "yBtHUr2HP7GQ"
      }
    },
    {
      "cell_type": "code",
      "source": [
        "if __name__ == '__main__':\n",
        "    a = int(input())\n",
        "    b = int(input())\n",
        "\n",
        "    print(a // b)\n",
        "print(a / b)\n"
      ],
      "metadata": {
        "id": "9GxtFT5tP9GY"
      },
      "execution_count": null,
      "outputs": []
    },
    {
      "cell_type": "markdown",
      "source": [
        "Loops"
      ],
      "metadata": {
        "id": "PBPDj-DuQBFe"
      }
    },
    {
      "cell_type": "code",
      "source": [
        "if __name__ == '__main__':\n",
        "    n = int(input())\n",
        "\n",
        "    for i in range(n):\n",
        "        print(i*i)\n"
      ],
      "metadata": {
        "id": "0iiP3LuuQFwA"
      },
      "execution_count": null,
      "outputs": []
    },
    {
      "cell_type": "markdown",
      "source": [
        "Print Function"
      ],
      "metadata": {
        "id": "DcAsZ6NkQJH7"
      }
    },
    {
      "cell_type": "code",
      "source": [
        "if __name__ == '__main__':\n",
        "    n = int(input())\n",
        "    print(*range(1, n+1), sep='')\n"
      ],
      "metadata": {
        "id": "A-gkSQtpQLvF"
      },
      "execution_count": null,
      "outputs": []
    },
    {
      "cell_type": "markdown",
      "source": [
        "Write a function"
      ],
      "metadata": {
        "id": "66pyKfpHQOgX"
      }
    },
    {
      "cell_type": "code",
      "source": [
        "def is_leap(year):\n",
        "    leap = False\n",
        "    if year%400==0 :\n",
        "        leap = True\n",
        "    elif year%4 == 0 and year%100 != 0:\n",
        "        leap = True\n",
        "\n",
        "    return leap\n"
      ],
      "metadata": {
        "id": "BkosUtgUQRWf"
      },
      "execution_count": null,
      "outputs": []
    },
    {
      "cell_type": "markdown",
      "source": [
        "Write a function"
      ],
      "metadata": {
        "id": "qFS-2Er0QT94"
      }
    },
    {
      "cell_type": "code",
      "source": [
        "def is_leap(year):\n",
        "    leap = False\n",
        "\n",
        "    if year%400==0 :\n",
        "        leap = True\n",
        "    elif year%4 == 0 and year%100 != 0:\n",
        "        leap = True\n",
        "\n",
        "\n",
        "    return leap\n",
        "\n"
      ],
      "metadata": {
        "id": "Q_aCiEFgQWyi"
      },
      "execution_count": null,
      "outputs": []
    },
    {
      "cell_type": "markdown",
      "source": [
        "Lists"
      ],
      "metadata": {
        "id": "pXyWVAR9QZcC"
      }
    },
    {
      "cell_type": "code",
      "source": [
        "if __name__ == '__main__':\n",
        "    N = int(input())\n",
        "    mylist = []\n",
        "for i in range(0,N):\n",
        "    text = input().split()\n",
        "    if text[0] == \"insert\":\n",
        "        mylist.insert(int(text[1]),int(text[2]))\n",
        "    elif text[0] == \"print\":\n",
        "        print(mylist)\n",
        "    elif text[0] == \"remove\":\n",
        "        mylist.remove(int(text[1]))\n",
        "    elif text[0] == \"append\":\n",
        "        mylist.append(int(text[1]))\n",
        "    elif text[0] == \"sort\":\n",
        "        mylist.sort()\n",
        "    elif text[0] == \"pop\":\n",
        "        mylist.pop()\n",
        "    else:\n",
        "        mylist.reverse()\n"
      ],
      "metadata": {
        "id": "l5hdtFWTQcRL"
      },
      "execution_count": null,
      "outputs": []
    },
    {
      "cell_type": "markdown",
      "source": [
        "Tuples"
      ],
      "metadata": {
        "id": "dMo_wpuaQgK3"
      }
    },
    {
      "cell_type": "code",
      "source": [
        "if __name__ == '__main__':\n",
        "    n = int(input())\n",
        "    integer_list = map(int, input().split())\n",
        "    t = (tuple(integer_list))\n",
        "    if len(t) == n:\n",
        "        print (hash(t))\n"
      ],
      "metadata": {
        "id": "JlfFh4BzQjsi"
      },
      "execution_count": null,
      "outputs": []
    },
    {
      "cell_type": "markdown",
      "source": [
        "List Comprehensions"
      ],
      "metadata": {
        "id": "a6yHzbLSQmnc"
      }
    },
    {
      "cell_type": "code",
      "source": [
        "if __name__ == '__main__':\n",
        "    x = int(input())\n",
        "    y = int(input())\n",
        "    z = int(input())\n",
        "    n = int(input())\n",
        "\n",
        "    coordinates = [[i, j, k]\n",
        "    for i in range(x+1)\n",
        "    for j in range(y+1)\n",
        "    for k in range(z+1)\n",
        "    if (i + j + k) != n]\n",
        "\n",
        "print(coordinates)\n"
      ],
      "metadata": {
        "id": "Zmvjwc-ZQpke"
      },
      "execution_count": null,
      "outputs": []
    },
    {
      "cell_type": "markdown",
      "source": [
        "Find the Runner-Up Score!"
      ],
      "metadata": {
        "id": "_QeE6yqRQvds"
      }
    },
    {
      "cell_type": "code",
      "source": [
        "if __name__ == '__main__':\n",
        "    n = int(input())\n",
        "    arr = map(int, input().split())\n",
        "    print(sorted(list(set(arr)))[-2])\n"
      ],
      "metadata": {
        "id": "7GZdhEUQQxjt"
      },
      "execution_count": null,
      "outputs": []
    },
    {
      "cell_type": "markdown",
      "source": [
        "Nested Lists"
      ],
      "metadata": {
        "id": "soJQx7k8Q3VV"
      }
    },
    {
      "cell_type": "code",
      "source": [
        "if __name__ == '__main__':\n",
        "    score_list = {}\n",
        "    for _ in range(int(input())):\n",
        "        name = input()\n",
        "        score = float(input())\n",
        "        if score in score_list:\n",
        "            score_list[score].append(name)\n",
        "        else:\n",
        "            score_list[score] = [name]\n",
        "\n",
        "    new_list = []\n",
        "    for i in score_list:\n",
        "        new_list.append([i, score_list[i]])\n",
        "\n",
        "    new_list.sort()\n",
        "    result = new_list[1][1]\n",
        "    result.sort()\n",
        "    print(*result, sep=\"\\n\")\n"
      ],
      "metadata": {
        "id": "CsmNe6FYQ5FR"
      },
      "execution_count": null,
      "outputs": []
    },
    {
      "cell_type": "markdown",
      "source": [
        "Finding the percentage\n"
      ],
      "metadata": {
        "id": "EmBRwtZ4Q-iZ"
      }
    },
    {
      "cell_type": "code",
      "source": [
        "if __name__ == '__main__':\n",
        "    n = int(input())\n",
        "    student_marks = {}\n",
        "    for _ in range(n):\n",
        "        name, *line = input().split()\n",
        "        scores = list(map(float, line))\n",
        "        student_marks[name] = scores\n",
        "    query_name = input()\n",
        "    output = list(student_marks[query_name])\n",
        "per = sum(output)/len(output);\n",
        "print(\"%.2f\" % per);\n"
      ],
      "metadata": {
        "id": "2gE94QQSRC_-"
      },
      "execution_count": null,
      "outputs": []
    },
    {
      "cell_type": "markdown",
      "source": [
        "Tuples"
      ],
      "metadata": {
        "id": "c80QSOWDRFC0"
      }
    },
    {
      "cell_type": "code",
      "source": [
        "# Enter your code here. Read input from STDIN. Print output to STDOUT\n",
        "    n = int(input())\n",
        "    integer_list = map(int, input().split())\n",
        "    T=tuple(integer_list)\n",
        "    print(hash(T))\n"
      ],
      "metadata": {
        "id": "gCQtgn_cRVAF"
      },
      "execution_count": null,
      "outputs": []
    },
    {
      "cell_type": "markdown",
      "source": [
        "sWAP cASE"
      ],
      "metadata": {
        "id": "4ThOPeBQRbW_"
      }
    },
    {
      "cell_type": "code",
      "source": [
        "def swap_case(s):\n",
        "\n",
        "    string = \"\"\n",
        "\n",
        "    for i in s:\n",
        "\n",
        "        if i.isupper() == True:\n",
        "            string+=(i.lower())\n",
        "        else:\n",
        "            string+=(i.upper())\n",
        "\n",
        "    return string\n",
        "\n",
        "if __name__ == '__main__':"
      ],
      "metadata": {
        "id": "qG-H13FgRb9N"
      },
      "execution_count": null,
      "outputs": []
    },
    {
      "cell_type": "markdown",
      "source": [
        "String Split and Join"
      ],
      "metadata": {
        "id": "xY7BUr2pReEw"
      }
    },
    {
      "cell_type": "code",
      "source": [
        "def split_and_join(line):\n",
        "    # write your code here\n",
        "    a = line.split(\" \")\n",
        "    b = \"-\".join(a)\n",
        "    return(b)\n",
        "\n",
        "if __name__ == '__main__':"
      ],
      "metadata": {
        "id": "oqiA0JkiRf6U"
      },
      "execution_count": null,
      "outputs": []
    },
    {
      "cell_type": "markdown",
      "source": [
        "What's Your Name?"
      ],
      "metadata": {
        "id": "veQovR5SRlMf"
      }
    },
    {
      "cell_type": "code",
      "source": [
        "#\n",
        "# Complete the 'print_full_name' function below.\n",
        "#\n",
        "# The function is expected to return a STRING.\n",
        "# The function accepts following parameters:\n",
        "#  1. STRING first\n",
        "#  2. STRING last\n",
        "#\n",
        "\n",
        "def print_full_name(first, last):\n",
        "    # Write your code here\n",
        "    print(\"Hello \" + first + \" \" + last + \"! You just delved into python.\")\n",
        "\n",
        "if __name__ == '__main__':"
      ],
      "metadata": {
        "id": "Om_72e6DRmwI"
      },
      "execution_count": null,
      "outputs": []
    },
    {
      "cell_type": "markdown",
      "source": [
        "Mutations"
      ],
      "metadata": {
        "id": "-iS3YZtcRqnU"
      }
    },
    {
      "cell_type": "code",
      "source": [
        "def mutate_string(string, position, character):\n",
        "    n = list(string)\n",
        "    n[position] = character\n",
        "    string = \"\".join(n)\n",
        "    return string\n",
        "\n",
        "\n",
        "if __name__ == '__main__':"
      ],
      "metadata": {
        "id": "4-7mooFqRsBo"
      },
      "execution_count": null,
      "outputs": []
    },
    {
      "cell_type": "markdown",
      "source": [
        "Find a string"
      ],
      "metadata": {
        "id": "fsNVhy9ZRwOS"
      }
    },
    {
      "cell_type": "code",
      "source": [
        "def count_substring(string, sub_string):\n",
        "    count = 0\n",
        "    sub_len = len(sub_string)\n",
        "    for i in range(len(string) - sub_len + 1):\n",
        "        if string[i:i+sub_len] == sub_string:\n",
        "            count += 1\n",
        "    return count\n",
        "    return\n",
        "\n",
        "if __name__ == '__main__':"
      ],
      "metadata": {
        "id": "vIl3XQA7RyBV"
      },
      "execution_count": null,
      "outputs": []
    },
    {
      "cell_type": "markdown",
      "source": [],
      "metadata": {
        "id": "QeksksXWR-xk"
      }
    },
    {
      "cell_type": "markdown",
      "source": [
        "String Validators"
      ],
      "metadata": {
        "id": "bgvpiP1DR0km"
      }
    },
    {
      "cell_type": "code",
      "source": [
        "if __name__ == '__main__':\n",
        "    s = input()\n",
        "\n",
        "print(any([i.isalnum() for i in s]))\n",
        "print(any([i.isalpha() for i in s]))\n",
        "print(any([i.isdigit() for i in s]))\n",
        "print(any([i.islower() for i in s]))\n",
        "print(any([i.isupper() for i in s]))\n"
      ],
      "metadata": {
        "id": "WsARR5VwR2Hv"
      },
      "execution_count": null,
      "outputs": []
    },
    {
      "cell_type": "markdown",
      "source": [
        "Text Alignment"
      ],
      "metadata": {
        "id": "aOhkDRIIR5QZ"
      }
    },
    {
      "cell_type": "code",
      "source": [
        "#Replace all ______ with rjust, ljust or center.\n",
        "\n",
        "thickness = int(input()) #This must be an odd number\n",
        "c = 'H'\n",
        "#Top Cone\n",
        "for i in range(thickness):\n",
        "    print((c*i).rjust(thickness-1)+c+(c*i).ljust(thickness-1))\n",
        "#Top Pillars\n",
        "for i in range(thickness+1):\n",
        "    print((c*thickness).center(thickness*2)+(c*thickness).center(thickness*6))\n",
        "#Middle Belt\n",
        "for i in range((thickness+1)//2):\n",
        "    print((c*thickness*5).center(thickness*6))\n",
        "#Bottom Pillars\n",
        "for i in range(thickness+1):\n",
        "    print((c*thickness).center(thickness*2)+(c*thickness).center(thickness*6))\n",
        "#Bottom Cone\n",
        "for i in range(thickness):\n",
        "    print(((c*(thickness-i-1)).rjust(thickness)+c+(c*(thickness-i-1)).ljust(thickness)).rjust(thickness*6))\n"
      ],
      "metadata": {
        "id": "S2JrNU1gR617"
      },
      "execution_count": null,
      "outputs": []
    },
    {
      "cell_type": "markdown",
      "source": [
        "Text Wrap"
      ],
      "metadata": {
        "id": "ravVHAheSClw"
      }
    },
    {
      "cell_type": "code",
      "source": [
        "import textwrap\n",
        "\n",
        "def wrap(string, max_width):\n",
        "    return textwrap.fill(string, max_width)\n",
        "\n",
        "\n",
        "if __name__ == '__main__':"
      ],
      "metadata": {
        "id": "h1hTQ2uCSC9-"
      },
      "execution_count": null,
      "outputs": []
    },
    {
      "cell_type": "markdown",
      "source": [
        "Designer Door Mat"
      ],
      "metadata": {
        "id": "1XtoEh0CSFlI"
      }
    },
    {
      "cell_type": "code",
      "source": [
        "# Enter your code here. Read input from STDIN. Print output to STDOUT\n",
        "n,m=(input().split())\n",
        "n=int(n)\n",
        "m=int(m)\n",
        "for i in range(1,n,2):\n",
        "    print(\"-\" * 3*((n-i)//2) + \".|.\"*i + \"-\" * 3*((n-i)// 2))\n",
        "print((((m-7)//2)*\"-\"+ \"WELCOME\"+((m-7)//2)*\"-\") )\n",
        "\n",
        "for i in range(n-2,-1,-2):\n",
        "    print(\"-\" * 3*((n-i)//2) + \".|.\"*i + \"-\" * 3*((n-i)// 2))\n"
      ],
      "metadata": {
        "id": "8syam7hXSLh7"
      },
      "execution_count": null,
      "outputs": []
    },
    {
      "cell_type": "markdown",
      "source": [
        "String Formatting"
      ],
      "metadata": {
        "id": "ShZzmNhZSNYq"
      }
    },
    {
      "cell_type": "code",
      "source": [
        "def print_formatted(number):\n",
        "    # your code goes here\n",
        "    width = len(\"{0:b}\".format(number))\n",
        "    for i in range(1, n + 1):\n",
        "        print(\"{0:{width}d} {0:{width}o} {0:{width}X} {0:{width}b}\".format(i, width=width))\n",
        "\n",
        "if __name__ == '__main__':"
      ],
      "metadata": {
        "id": "h9OyvVllSUte"
      },
      "execution_count": null,
      "outputs": []
    },
    {
      "cell_type": "markdown",
      "source": [
        "Capitalize!"
      ],
      "metadata": {
        "id": "AqmXz6xmSW6S"
      }
    },
    {
      "cell_type": "code",
      "source": [
        "#!/bin/python3\n",
        "\n",
        "import math\n",
        "import os\n",
        "import random\n",
        "import re\n",
        "import sys\n",
        "\n",
        "# Complete the solve function below.\n",
        "def solve(s):\n",
        "    for x in s[:].split():\n",
        "        s = s.replace(x, x.capitalize())\n",
        "    return s\n",
        "\n",
        "if __name__ == '__main__':"
      ],
      "metadata": {
        "id": "b7bBmu8CSbo_"
      },
      "execution_count": null,
      "outputs": []
    },
    {
      "cell_type": "markdown",
      "source": [
        "Introduction to Sets"
      ],
      "metadata": {
        "id": "sxplHhCcSdqA"
      }
    },
    {
      "cell_type": "code",
      "source": [
        "def average(array):\n",
        "    # your code goes here\n",
        "    x=set(array)\n",
        "    y=sum(x)\n",
        "    return y/len(x)\n",
        "\n",
        "if __name__ == '__main__':"
      ],
      "metadata": {
        "id": "ubmMqeQoShA4"
      },
      "execution_count": null,
      "outputs": []
    },
    {
      "cell_type": "markdown",
      "source": [
        "Symmetric Difference"
      ],
      "metadata": {
        "id": "Zm4SpgSkSmoW"
      }
    },
    {
      "cell_type": "code",
      "source": [
        "# Enter your code here. Read input from STDIN. Print output to STDOUT\n",
        "n1 = int(input())\n",
        "set_a = set(map(int,input().split()))\n",
        "n2 = int(input())\n",
        "set_b = set(map(int,input().split()))\n",
        "a = (set_a.difference(set_b))\n",
        "b = (set_b.difference(set_a))\n",
        "ans = a.union(b)\n",
        "for i in sorted(ans):\n",
        "        print (i)\n"
      ],
      "metadata": {
        "id": "iOV6UjW3Sqw1"
      },
      "execution_count": null,
      "outputs": []
    },
    {
      "cell_type": "markdown",
      "source": [
        "Set .add()"
      ],
      "metadata": {
        "id": "OkL4yxzMSphk"
      }
    },
    {
      "cell_type": "code",
      "source": [
        "# Enter your code here. Read input from STDIN. Print output to STDOUT\n",
        "n = int(input())\n",
        "countryname_set = set()\n",
        "\n",
        "for _ in range(n):\n",
        "    countryname_set.add(input())\n",
        "\n",
        "print(len(countryname_set))\n"
      ],
      "metadata": {
        "id": "ZTRh-Y6MSwOv"
      },
      "execution_count": null,
      "outputs": []
    },
    {
      "cell_type": "markdown",
      "source": [
        "Set .discard(), .remove() & .pop()"
      ],
      "metadata": {
        "id": "nTJHm7X8RTtT"
      }
    },
    {
      "cell_type": "code",
      "source": [
        "n = int(input())\n",
        "s = set(map(int, input().split()))\n",
        "\n",
        "for _ in range(int(input())):\n",
        "    s1 = input().split()\n",
        "    command = s1[0]\n",
        "    if command == 'pop':\n",
        "        s.pop()\n",
        "    elif command == 'remove':\n",
        "        s.remove(int(s1[1]))\n",
        "    elif command == 'discard':\n",
        "        s.discard(int(s1[1]))\n",
        "\n",
        "print(sum(s))\n"
      ],
      "metadata": {
        "id": "688cmIIaS1Sy"
      },
      "execution_count": null,
      "outputs": []
    },
    {
      "cell_type": "markdown",
      "source": [
        "Set .intersection() Operation"
      ],
      "metadata": {
        "id": "l2Y7Ez3IS8RT"
      }
    },
    {
      "cell_type": "code",
      "source": [
        "# Enter your code here. Read input from STDIN. Print output to STDOUT\n",
        "a=input()\n",
        "english=set(input().split())\n",
        "b= input()\n",
        "french= set(input().split())\n",
        "\n",
        "print(len(english.intersection(french)))\n"
      ],
      "metadata": {
        "id": "rp0j2lv5TG5r"
      },
      "execution_count": null,
      "outputs": []
    },
    {
      "cell_type": "markdown",
      "source": [
        "Set .union() Operation"
      ],
      "metadata": {
        "id": "RBFrNJXrS2_o"
      }
    },
    {
      "cell_type": "code",
      "source": [
        "# Enter your code here. Read input from STDIN. Print output to STDOUT\n",
        "n = int(input())\n",
        "a = list(input().split())\n",
        "m = int(input())\n",
        "b = list(input().split())\n",
        "\n",
        "s1 = set(a)\n",
        "s2 = set(b)\n",
        "\n",
        "print(len(s1.union(s2)))\n"
      ],
      "metadata": {
        "id": "8MWM-oahS3uR"
      },
      "execution_count": null,
      "outputs": []
    },
    {
      "cell_type": "markdown",
      "source": [
        "Set .difference() Operation"
      ],
      "metadata": {
        "id": "w6aWjTAETHwJ"
      }
    },
    {
      "cell_type": "code",
      "source": [
        "# Enter your code here. Read input from STDIN. Print output to STDOUT\n",
        "a=input()\n",
        "english=set(input().split())\n",
        "b= input()\n",
        "french= set(input().split())\n",
        "\n",
        "print(len(english.difference(french)))\n"
      ],
      "metadata": {
        "id": "BCzO-A1rTKWg"
      },
      "execution_count": null,
      "outputs": []
    },
    {
      "cell_type": "markdown",
      "source": [
        "Set .symmetric_difference() Operation"
      ],
      "metadata": {
        "id": "aGjVNYTaTMvB"
      }
    },
    {
      "cell_type": "code",
      "source": [
        "# Enter your code here. Read input from STDIN. Print output to STDOUT\n",
        "a=input()\n",
        "english=set(input().split())\n",
        "b= input()\n",
        "french= set(input().split())\n",
        "\n",
        "print(len(english.union(french)-english.intersection(french)))\n"
      ],
      "metadata": {
        "id": "-M8MXT-GTQOI"
      },
      "execution_count": null,
      "outputs": []
    },
    {
      "cell_type": "markdown",
      "source": [
        "Set Mutations"
      ],
      "metadata": {
        "id": "NNHxVd4gTSkt"
      }
    },
    {
      "cell_type": "code",
      "source": [
        "# Enter your code here. Read input from STDIN. Print output to STDOUT\n",
        "input()\n",
        "numbers = set([int(x) for x in input().split()])\n",
        "Leng = int(input())\n",
        "for _ in range(Leng):\n",
        "    c, m = input().split()\n",
        "    b = set([int(x) for x in input().split()])\n",
        "    if c[0] == \"i\":\n",
        "        numbers =numbers&b\n",
        "    elif c[0] == \"u\":\n",
        "        numbers = numbers|b\n",
        "    elif c[0] == \"d\":\n",
        "        numbers = numbers -b\n",
        "    else:\n",
        "        numbers =numbers^b\n",
        "print(sum(numbers))\n"
      ],
      "metadata": {
        "id": "4BNNEHR1TTBz"
      },
      "execution_count": null,
      "outputs": []
    },
    {
      "cell_type": "markdown",
      "source": [
        "The Captain's Room"
      ],
      "metadata": {
        "id": "gK96ltX2TYV7"
      }
    },
    {
      "cell_type": "code",
      "source": [
        "# Enter your code here. Read input from STDIN. Print output to STDOUT\n",
        "from collections import Counter\n",
        "\n",
        "k = int(input())\n",
        "elements = list(map(int,input().split()))\n",
        "elementset=set(elements)\n",
        "\n",
        "a=Counter(elements)\n",
        "print(min(a,key=a.get))\n"
      ],
      "metadata": {
        "id": "c_8l966rTbM_"
      },
      "execution_count": null,
      "outputs": []
    },
    {
      "cell_type": "markdown",
      "source": [
        "collections.Counter()"
      ],
      "metadata": {
        "id": "0cEG01mlTgDu"
      }
    },
    {
      "cell_type": "code",
      "source": [
        "# Enter your code here. Read input from STDIN. Print output to STDOUT\n",
        "from collections import Counter\n",
        "x=(input().split())\n",
        "x=int(x[0])\n",
        "shoesizes=list(map(int ,input().split()))\n",
        "sayi = Counter(shoesizes)\n",
        "para = 0\n",
        "customers=(input().split())\n",
        "customers=int(customers[0])\n",
        "for customerNumber in range(customers):\n",
        "    shoesize=list(map(int ,input().split()));\n",
        "    if (sayi.get(shoesize[0], None) !=None) :\n",
        "        shoesizes.remove(shoesize[0]);\n",
        "        para=para+shoesize[1];\n",
        "        sayi = Counter(shoesizes);\n",
        "\n",
        "print(para)\n"
      ],
      "metadata": {
        "id": "CA8bXJSdThkG"
      },
      "execution_count": null,
      "outputs": []
    },
    {
      "cell_type": "markdown",
      "source": [
        "DefaultDict Tutorial"
      ],
      "metadata": {
        "id": "G_p_ZBTtTjkx"
      }
    },
    {
      "cell_type": "code",
      "source": [
        "# Enter your code here. Read input from STDIN. Print output to STDOUT\n",
        "from collections import defaultdict\n",
        "\n",
        "dd = defaultdict(list)\n",
        "n, m = [int(i) for i in input().split()]\n",
        "\n",
        "for i in range(1,n+1):\n",
        "    dd[input()].append(str(i))\n",
        "\n",
        "for i in range(m):\n",
        "    inp = input()\n",
        "    if dd[inp]:\n",
        "        s = \" \".join(dd[inp])\n",
        "        print(s)\n",
        "    else:\n",
        "        print(-1)\n"
      ],
      "metadata": {
        "id": "uko5ZTMdTkW1"
      },
      "execution_count": null,
      "outputs": []
    },
    {
      "cell_type": "code",
      "source": [
        "Collections.namedtuple()"
      ],
      "metadata": {
        "id": "1v6IZJ93TkjN"
      },
      "execution_count": null,
      "outputs": []
    },
    {
      "cell_type": "code",
      "source": [
        "# Enter your code here. Read input from STDIN. Print output to STDOUT\n",
        "from collections import namedtuple\n",
        "x = 0\n",
        "n = int(input())\n",
        "namesofcol = input().split()\n",
        "\n",
        "for _ in range(n):\n",
        "    allof = input().split()\n",
        "    student_data = dict(zip(namesofcol, allof))\n",
        "    x += float(student_data['MARKS'])\n",
        "\n",
        "average_mark = x / n\n",
        "print(round(average_mark, 3))\n"
      ],
      "metadata": {
        "id": "T0_wAZtcTtdC"
      },
      "execution_count": null,
      "outputs": []
    },
    {
      "cell_type": "markdown",
      "source": [
        "Collections.OrderedDict()"
      ],
      "metadata": {
        "id": "ceZq5TbFTxsS"
      }
    },
    {
      "cell_type": "code",
      "source": [
        "# Enter your code here. Read input from STDIN. Print output to STDOUT\n",
        "from collections import defaultdict\n",
        "ordered_dict = defaultdict(int)\n",
        "N = int(input())\n",
        "\n",
        "for i in range(N):\n",
        "    name_and_price = input().split()\n",
        "    item = \" \".join(name_and_price[:-1])\n",
        "    quantity = int(name_and_price[-1])\n",
        "    ordered_dict[item] += quantity\n",
        "\n",
        "for item, quantity in ordered_dict.items():\n",
        "    print(item, quantity)\n"
      ],
      "metadata": {
        "id": "8BF0q03bTzz8"
      },
      "execution_count": null,
      "outputs": []
    },
    {
      "cell_type": "markdown",
      "source": [
        "Word Order"
      ],
      "metadata": {
        "id": "BN8U6jXBT3JW"
      }
    },
    {
      "cell_type": "code",
      "source": [
        "# Enter your code here. Read input from STDIN. Print output to STDOUT\n",
        "from collections import Counter\n",
        "\n",
        "n = int(input())\n",
        "words = []\n",
        "\n",
        "for i in range(n):\n",
        "    word = input()\n",
        "    words.append(word)\n",
        "\n",
        "word_counts = Counter(words)\n",
        "\n",
        "print(len(word_counts))\n",
        "for word, count in word_counts.items():\n",
        "    print(f\"{count} \", end=\"\")\n"
      ],
      "metadata": {
        "id": "RleV4BOeT46F"
      },
      "execution_count": null,
      "outputs": []
    },
    {
      "cell_type": "markdown",
      "source": [
        "Collections.deque()"
      ],
      "metadata": {
        "id": "Vm68tc-OT7ts"
      }
    },
    {
      "cell_type": "code",
      "source": [
        "# Enter your code here. Read input from STDIN. Print output to STDOUT\n",
        "from collections import deque\n",
        "\n",
        "n = int(input())\n",
        "deq = deque()\n",
        "\n",
        "for _ in range(n):\n",
        "    command, *args = input().split()\n",
        "\n",
        "    if command == \"popleft\":\n",
        "        deq.popleft()\n",
        "    elif command == \"appendleft\":\n",
        "        deq.appendleft(int(args[0]))\n",
        "    elif command == \"pop\":\n",
        "        deq.pop()\n",
        "    elif command == \"append\":\n",
        "        deq.append(int(args[0]))\n",
        "\n",
        "print(\" \".join(map(str, deq)))\n"
      ],
      "metadata": {
        "id": "E_lLD_SET9GR"
      },
      "execution_count": null,
      "outputs": []
    },
    {
      "cell_type": "markdown",
      "source": [
        "Calendar Module"
      ],
      "metadata": {
        "id": "KR2gAH40UA3k"
      }
    },
    {
      "cell_type": "code",
      "source": [
        "# Enter your code here. Read input from STDIN. Print output to STDOUT\n",
        "import calendar\n",
        "\n",
        "day, month, year = (input().split())\n",
        "\n",
        "weekday = [\"MONDAY\", \"TUESDAY\", \"WEDNESDAY\", \"THURSDAY\", \"FRIDAY\", \"SATURDAY\", \"SUNDAY\"]\n",
        "print(weekday[(calendar.weekday(int(year),int(month),int(day)))])\n"
      ],
      "metadata": {
        "id": "8YkojzdwUKwg"
      },
      "execution_count": null,
      "outputs": []
    },
    {
      "cell_type": "markdown",
      "source": [
        "Exceptions"
      ],
      "metadata": {
        "id": "RQX8i8NlUMS8"
      }
    },
    {
      "cell_type": "code",
      "source": [
        "# Enter your code here. Read input from STDIN. Print output to STDOUT\n",
        "NTest_Cases = int(input())\n",
        "for i in range(NTest_Cases):\n",
        "    a, b = input().split()\n",
        "    try:\n",
        "        result = int(a) // int(b)\n",
        "        print(result)\n",
        "    except ZeroDivisionError as error:\n",
        "        print(\"Error: Division by zero\")\n",
        "    except ValueError as error:\n",
        "        print(f\"Error: {error} - Input must be integers\")\n"
      ],
      "metadata": {
        "id": "ediiquVtUMx4"
      },
      "execution_count": null,
      "outputs": []
    },
    {
      "cell_type": "markdown",
      "source": [
        "Athlete Sort"
      ],
      "metadata": {
        "id": "R_JQ6TzAUOMo"
      }
    },
    {
      "cell_type": "code",
      "source": [
        "#!/bin/python3\n",
        "\n",
        "import math\n",
        "import os\n",
        "import random\n",
        "import re\n",
        "import sys\n",
        "\n",
        "\n",
        "\n",
        "if __name__ == '__main__':\n",
        "    nm = input().split()\n",
        "\n",
        "    n = int(nm[0])\n",
        "\n",
        "    m = int(nm[1])\n",
        "\n",
        "    arr = []\n",
        "\n",
        "    for _ in range(n):\n",
        "        arr.append(list(map(int, input().rstrip().split())))\n",
        "\n",
        "    k = int(input())\n"
      ],
      "metadata": {
        "id": "7mKnga5CUOfl"
      },
      "execution_count": null,
      "outputs": []
    },
    {
      "cell_type": "markdown",
      "source": [
        "Zipped!"
      ],
      "metadata": {
        "id": "WjznjOSaUO5S"
      }
    },
    {
      "cell_type": "code",
      "source": [
        "N, X = map(int, input().split())\n",
        "\n",
        "lists = [list(map(float, input().split())) for _ in range(X)]\n",
        "\n",
        "averages = [sum(values) / len(values) for values in zip(*lists)]\n",
        "\n",
        "for average in averages:\n",
        "    print(average)"
      ],
      "metadata": {
        "id": "9OQukXncUQVr"
      },
      "execution_count": null,
      "outputs": []
    },
    {
      "cell_type": "markdown",
      "source": [
        "ginortS"
      ],
      "metadata": {
        "id": "s6FaA-DsUQlM"
      }
    },
    {
      "cell_type": "code",
      "source": [
        "# Enter your code here. Read input from STDIN. Print output to STDOUT\n",
        "def custom_sort(c):\n",
        "    if c.islower():\n",
        "        return (0, c)\n",
        "    elif c.isupper():\n",
        "        return (2, c)\n",
        "    elif c.isdigit() and int(c) % 2 == 0:\n",
        "        return (1, c)\n",
        "    elif c.isdigit() and int(c) % 2 != 0:\n",
        "        return (3, c)\n",
        "    else:\n",
        "        return (4, c)\n",
        "input_string = input()\n",
        "sorted_string = ''.join(sorted(input_string, key=custom_sort))\n",
        "\n",
        "print(sorted_string)\n"
      ],
      "metadata": {
        "id": "JBOkGxe3USFc"
      },
      "execution_count": null,
      "outputs": []
    },
    {
      "cell_type": "markdown",
      "source": [
        "Map and Lambda Function"
      ],
      "metadata": {
        "id": "5SqPZGTOUSf-"
      }
    },
    {
      "cell_type": "code",
      "source": [
        "cube = lambda x:\n",
        "\n",
        "\n",
        "def cube(x):\n",
        "    return x ** 3\n",
        "\n",
        "def generate_fibonacci(n):\n",
        "    fib_sequence = []\n",
        "    a, b = 0, 1\n",
        "    for _ in range(n):\n",
        "        fib_sequence.append(a)\n",
        "        a, b = b, a + b\n",
        "    return fib_sequence\n",
        "\n",
        "if __name__ == '__main__':"
      ],
      "metadata": {
        "id": "01WAbKYNUUkc"
      },
      "execution_count": null,
      "outputs": []
    },
    {
      "cell_type": "markdown",
      "source": [
        "Birthday Cake Candles"
      ],
      "metadata": {
        "id": "HEhClAIfUU9u"
      }
    },
    {
      "cell_type": "code",
      "source": [
        "#!/bin/python3\n",
        "\n",
        "import math\n",
        "import os\n",
        "import random\n",
        "import re\n",
        "import sys\n",
        "\n",
        "#\n",
        "# Complete the 'birthdayCakeCandles' function below.\n",
        "#\n",
        "# The function is expected to return an INTEGER.\n",
        "# The function accepts INTEGER_ARRAY candles as parameter.\n",
        "#\n",
        "\n",
        "def birthdayCakeCandles(candles):\n",
        "    # Write your code here\n",
        "\n",
        "if __name__ == '__main__':\n",
        "    fptr = open(os.environ['OUTPUT_PATH'], 'w')\n",
        "\n",
        "    candles_count = int(input().strip())\n",
        "\n",
        "    candles = list(map(int, input().rstrip().split()))\n",
        "\n",
        "    result = birthdayCakeCandles(candles)\n",
        "\n",
        "    fptr.write(str(result) + '\\n')\n",
        "\n",
        "    fptr.close()\n"
      ],
      "metadata": {
        "id": "xSAdnkTjUWb1"
      },
      "execution_count": null,
      "outputs": []
    },
    {
      "cell_type": "markdown",
      "source": [
        "Number Line Jumps"
      ],
      "metadata": {
        "id": "UYceWaxcUWz6"
      }
    },
    {
      "cell_type": "code",
      "source": [
        "#!/bin/python3\n",
        "\n",
        "import math\n",
        "import os\n",
        "import random\n",
        "import re\n",
        "import sys\n",
        "\n",
        "#\n",
        "# Complete the 'kangaroo' function below.\n",
        "#\n",
        "# The function is expected to return a STRING.\n",
        "# The function accepts following parameters:\n",
        "#  1. INTEGER x1\n",
        "#  2. INTEGER v1\n",
        "#  3. INTEGER x2\n",
        "#  4. INTEGER v2\n",
        "#\n",
        "\n",
        "def kangaroo(x1, v1, x2, v2):\n",
        "    # Write your code here\n",
        "\n",
        "if __name__ == '__main__':\n",
        "    fptr = open(os.environ['OUTPUT_PATH'], 'w')\n",
        "\n",
        "    first_multiple_input = input().rstrip().split()\n",
        "\n",
        "    x1 = int(first_multiple_input[0])\n",
        "\n",
        "    v1 = int(first_multiple_input[1])\n",
        "\n",
        "    x2 = int(first_multiple_input[2])\n",
        "\n",
        "    v2 = int(first_multiple_input[3])\n",
        "\n",
        "    result = kangaroo(x1, v1, x2, v2)\n",
        "\n",
        "    fptr.write(result + '\\n')\n",
        "\n",
        "    fptr.close()\n"
      ],
      "metadata": {
        "id": "-abvMFoRUYhj"
      },
      "execution_count": null,
      "outputs": []
    },
    {
      "cell_type": "markdown",
      "source": [
        "Viral Advertising"
      ],
      "metadata": {
        "id": "n0RmuACSUYvw"
      }
    },
    {
      "cell_type": "code",
      "source": [
        "#!/bin/python3\n",
        "\n",
        "import math\n",
        "import os\n",
        "import random\n",
        "import re\n",
        "import sys\n",
        "\n",
        "#\n",
        "# Complete the 'viralAdvertising' function below.\n",
        "#\n",
        "# The function is expected to return an INTEGER.\n",
        "# The function accepts INTEGER n as parameter.\n",
        "#\n",
        "\n",
        "def viralAdvertising(n):\n",
        "    # Write your code here\n",
        "\n",
        "if __name__ == '__main__':\n",
        "    fptr = open(os.environ['OUTPUT_PATH'], 'w')\n",
        "\n",
        "    n = int(input().strip())\n",
        "\n",
        "    result = viralAdvertising(n)\n",
        "\n",
        "    fptr.write(str(result) + '\\n')\n",
        "\n",
        "    fptr.close()\n"
      ],
      "metadata": {
        "id": "FbvzKkHPUaCY"
      },
      "execution_count": null,
      "outputs": []
    },
    {
      "cell_type": "markdown",
      "source": [
        "Insertion Sort - Part 1"
      ],
      "metadata": {
        "id": "3SCz54URUaNM"
      }
    },
    {
      "cell_type": "code",
      "source": [
        "#!/bin/python3\n",
        "\n",
        "import math\n",
        "import os\n",
        "import random\n",
        "import re\n",
        "import sys\n",
        "\n",
        "#\n",
        "# Complete the 'insertionSort1' function below.\n",
        "#\n",
        "# The function accepts following parameters:\n",
        "#  1. INTEGER n\n",
        "#  2. INTEGER_ARRAY arr\n",
        "#\n",
        "\n",
        "def insertionSort1(n, arr):\n",
        "    # Write your code here\n",
        "\n",
        "if __name__ == '__main__':\n",
        "    n = int(input().strip())\n",
        "\n",
        "    arr = list(map(int, input().rstrip().split()))\n",
        "\n",
        "    insertionSort1(n, arr)\n"
      ],
      "metadata": {
        "id": "kZFrs7m8UcGW"
      },
      "execution_count": null,
      "outputs": []
    },
    {
      "cell_type": "markdown",
      "source": [],
      "metadata": {
        "id": "KQ-l_3M3TZlL"
      }
    }
  ]
}